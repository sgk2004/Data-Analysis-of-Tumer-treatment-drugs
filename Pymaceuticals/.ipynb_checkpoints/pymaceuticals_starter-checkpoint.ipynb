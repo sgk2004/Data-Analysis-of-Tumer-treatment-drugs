{
 "cells": [
  {
   "cell_type": "code",
   "execution_count": 1,
   "metadata": {},
   "outputs": [],
   "source": [
    "# # Dependencies and Setup\n",
    "# %matplotlib inline\n",
    "# %matplotlib notebook"
   ]
  },
  {
   "cell_type": "code",
   "execution_count": 2,
   "metadata": {},
   "outputs": [],
   "source": [
    "import matplotlib.pyplot as plt\n",
    "import pandas as pd\n",
    "import numpy as np\n",
    "import os\n",
    "# Hide warning messages in notebook\n",
    "import warnings\n",
    "warnings.filterwarnings('ignore')"
   ]
  },
  {
   "cell_type": "code",
   "execution_count": 3,
   "metadata": {},
   "outputs": [],
   "source": [
    "#Read the csv file - clinicaltrial_data.csv\n",
    "file_path1= os.path.join('data','clinicaltrial_data.csv')\n",
    "clinical_trial_df = pd.read_csv(file_path1)"
   ]
  },
  {
   "cell_type": "code",
   "execution_count": 4,
   "metadata": {},
   "outputs": [],
   "source": [
    "#Read the csv file - mouse_drug_data.csv\n",
    "file_path2= os.path.join('data','mouse_drug_data.csv')\n",
    "mouse_drug_df = pd.read_csv(file_path2)"
   ]
  },
  {
   "cell_type": "code",
   "execution_count": 6,
   "metadata": {},
   "outputs": [],
   "source": [
    "# Combine the data into a single dataset\n",
    "merged_df = pd.merge(clinical_trial_df, mouse_drug_df, on=('Mouse ID'))\n",
    "#merged_df.info()\n",
    "# Display the data table for preview\n",
    "#merged_df.head()"
   ]
  },
  {
   "cell_type": "markdown",
   "metadata": {},
   "source": [
    "## Tumor Response to Treatment"
   ]
  },
  {
   "cell_type": "markdown",
   "metadata": {},
   "source": [
    "Find the Mean  of Tumor Volume(mm3) Data, Grouped by Drug and Timepoint "
   ]
  },
  {
   "cell_type": "code",
   "execution_count": 7,
   "metadata": {},
   "outputs": [],
   "source": [
    "# Mean of Tumor Volume(mm3) Data, Grouped by Drug and Timepoint\n",
    "mean_tv_df = pd.DataFrame(merged_df.groupby(['Drug', 'Timepoint']) [\"Tumor Volume (mm3)\"].mean())\n",
    "#Reindexing DF\n",
    "mean_tv_df=mean_tv_df.reset_index()\n",
    "#preview\n",
    "#mean_tv_df"
   ]
  },
  {
   "cell_type": "code",
   "execution_count": 8,
   "metadata": {},
   "outputs": [
    {
     "data": {
      "text/html": [
       "<div>\n",
       "<style scoped>\n",
       "    .dataframe tbody tr th:only-of-type {\n",
       "        vertical-align: middle;\n",
       "    }\n",
       "\n",
       "    .dataframe tbody tr th {\n",
       "        vertical-align: top;\n",
       "    }\n",
       "\n",
       "    .dataframe thead th {\n",
       "        text-align: right;\n",
       "    }\n",
       "</style>\n",
       "<table border=\"1\" class=\"dataframe\">\n",
       "  <thead>\n",
       "    <tr style=\"text-align: right;\">\n",
       "      <th>Drug</th>\n",
       "      <th>Capomulin</th>\n",
       "      <th>Ceftamin</th>\n",
       "      <th>Infubinol</th>\n",
       "      <th>Ketapril</th>\n",
       "      <th>Naftisol</th>\n",
       "      <th>Placebo</th>\n",
       "      <th>Propriva</th>\n",
       "      <th>Ramicane</th>\n",
       "      <th>Stelasyn</th>\n",
       "      <th>Zoniferol</th>\n",
       "    </tr>\n",
       "    <tr>\n",
       "      <th>Timepoint</th>\n",
       "      <th></th>\n",
       "      <th></th>\n",
       "      <th></th>\n",
       "      <th></th>\n",
       "      <th></th>\n",
       "      <th></th>\n",
       "      <th></th>\n",
       "      <th></th>\n",
       "      <th></th>\n",
       "      <th></th>\n",
       "    </tr>\n",
       "  </thead>\n",
       "  <tbody>\n",
       "    <tr>\n",
       "      <td>0</td>\n",
       "      <td>45.000000</td>\n",
       "      <td>45.000000</td>\n",
       "      <td>45.000000</td>\n",
       "      <td>45.000000</td>\n",
       "      <td>45.000000</td>\n",
       "      <td>45.000000</td>\n",
       "      <td>45.000000</td>\n",
       "      <td>45.000000</td>\n",
       "      <td>45.000000</td>\n",
       "      <td>45.000000</td>\n",
       "    </tr>\n",
       "    <tr>\n",
       "      <td>5</td>\n",
       "      <td>44.266086</td>\n",
       "      <td>46.503051</td>\n",
       "      <td>47.062001</td>\n",
       "      <td>47.389175</td>\n",
       "      <td>46.796098</td>\n",
       "      <td>47.125589</td>\n",
       "      <td>47.248967</td>\n",
       "      <td>43.944859</td>\n",
       "      <td>47.527452</td>\n",
       "      <td>46.851818</td>\n",
       "    </tr>\n",
       "    <tr>\n",
       "      <td>10</td>\n",
       "      <td>43.084291</td>\n",
       "      <td>48.285125</td>\n",
       "      <td>49.403909</td>\n",
       "      <td>49.582269</td>\n",
       "      <td>48.694210</td>\n",
       "      <td>49.423329</td>\n",
       "      <td>49.101541</td>\n",
       "      <td>42.531957</td>\n",
       "      <td>49.463844</td>\n",
       "      <td>48.689881</td>\n",
       "    </tr>\n",
       "    <tr>\n",
       "      <td>15</td>\n",
       "      <td>42.064317</td>\n",
       "      <td>50.094055</td>\n",
       "      <td>51.296397</td>\n",
       "      <td>52.399974</td>\n",
       "      <td>50.933018</td>\n",
       "      <td>51.359742</td>\n",
       "      <td>51.067318</td>\n",
       "      <td>41.495061</td>\n",
       "      <td>51.529409</td>\n",
       "      <td>50.779059</td>\n",
       "    </tr>\n",
       "    <tr>\n",
       "      <td>20</td>\n",
       "      <td>40.716325</td>\n",
       "      <td>52.157049</td>\n",
       "      <td>53.197691</td>\n",
       "      <td>54.920935</td>\n",
       "      <td>53.644087</td>\n",
       "      <td>54.364417</td>\n",
       "      <td>53.346737</td>\n",
       "      <td>40.238325</td>\n",
       "      <td>54.067395</td>\n",
       "      <td>53.170334</td>\n",
       "    </tr>\n",
       "    <tr>\n",
       "      <td>25</td>\n",
       "      <td>39.939528</td>\n",
       "      <td>54.287674</td>\n",
       "      <td>55.715252</td>\n",
       "      <td>57.678982</td>\n",
       "      <td>56.731968</td>\n",
       "      <td>57.482574</td>\n",
       "      <td>55.504138</td>\n",
       "      <td>38.974300</td>\n",
       "      <td>56.166123</td>\n",
       "      <td>55.432935</td>\n",
       "    </tr>\n",
       "    <tr>\n",
       "      <td>30</td>\n",
       "      <td>38.769339</td>\n",
       "      <td>56.769517</td>\n",
       "      <td>58.299397</td>\n",
       "      <td>60.994507</td>\n",
       "      <td>59.559509</td>\n",
       "      <td>59.809063</td>\n",
       "      <td>58.196374</td>\n",
       "      <td>38.703137</td>\n",
       "      <td>59.826738</td>\n",
       "      <td>57.713531</td>\n",
       "    </tr>\n",
       "    <tr>\n",
       "      <td>35</td>\n",
       "      <td>37.816839</td>\n",
       "      <td>58.827548</td>\n",
       "      <td>60.742461</td>\n",
       "      <td>63.371686</td>\n",
       "      <td>62.685087</td>\n",
       "      <td>62.420615</td>\n",
       "      <td>60.350199</td>\n",
       "      <td>37.451996</td>\n",
       "      <td>62.440699</td>\n",
       "      <td>60.089372</td>\n",
       "    </tr>\n",
       "    <tr>\n",
       "      <td>40</td>\n",
       "      <td>36.958001</td>\n",
       "      <td>61.467895</td>\n",
       "      <td>63.162824</td>\n",
       "      <td>66.068580</td>\n",
       "      <td>65.600754</td>\n",
       "      <td>65.052675</td>\n",
       "      <td>63.045537</td>\n",
       "      <td>36.574081</td>\n",
       "      <td>65.356386</td>\n",
       "      <td>62.916692</td>\n",
       "    </tr>\n",
       "    <tr>\n",
       "      <td>45</td>\n",
       "      <td>36.236114</td>\n",
       "      <td>64.132421</td>\n",
       "      <td>65.755562</td>\n",
       "      <td>70.662958</td>\n",
       "      <td>69.265506</td>\n",
       "      <td>68.084082</td>\n",
       "      <td>66.258529</td>\n",
       "      <td>34.955595</td>\n",
       "      <td>68.438310</td>\n",
       "      <td>65.960888</td>\n",
       "    </tr>\n",
       "  </tbody>\n",
       "</table>\n",
       "</div>"
      ],
      "text/plain": [
       "Drug       Capomulin   Ceftamin  Infubinol   Ketapril   Naftisol    Placebo  \\\n",
       "Timepoint                                                                     \n",
       "0          45.000000  45.000000  45.000000  45.000000  45.000000  45.000000   \n",
       "5          44.266086  46.503051  47.062001  47.389175  46.796098  47.125589   \n",
       "10         43.084291  48.285125  49.403909  49.582269  48.694210  49.423329   \n",
       "15         42.064317  50.094055  51.296397  52.399974  50.933018  51.359742   \n",
       "20         40.716325  52.157049  53.197691  54.920935  53.644087  54.364417   \n",
       "25         39.939528  54.287674  55.715252  57.678982  56.731968  57.482574   \n",
       "30         38.769339  56.769517  58.299397  60.994507  59.559509  59.809063   \n",
       "35         37.816839  58.827548  60.742461  63.371686  62.685087  62.420615   \n",
       "40         36.958001  61.467895  63.162824  66.068580  65.600754  65.052675   \n",
       "45         36.236114  64.132421  65.755562  70.662958  69.265506  68.084082   \n",
       "\n",
       "Drug        Propriva   Ramicane   Stelasyn  Zoniferol  \n",
       "Timepoint                                              \n",
       "0          45.000000  45.000000  45.000000  45.000000  \n",
       "5          47.248967  43.944859  47.527452  46.851818  \n",
       "10         49.101541  42.531957  49.463844  48.689881  \n",
       "15         51.067318  41.495061  51.529409  50.779059  \n",
       "20         53.346737  40.238325  54.067395  53.170334  \n",
       "25         55.504138  38.974300  56.166123  55.432935  \n",
       "30         58.196374  38.703137  59.826738  57.713531  \n",
       "35         60.350199  37.451996  62.440699  60.089372  \n",
       "40         63.045537  36.574081  65.356386  62.916692  \n",
       "45         66.258529  34.955595  68.438310  65.960888  "
      ]
     },
     "execution_count": 8,
     "metadata": {},
     "output_type": "execute_result"
    }
   ],
   "source": [
    "# Minor Data Munging to Re-Format the Data Frames\n",
    "# Preview that Reformatting worked\n",
    "\n",
    "mean_df_pivot=mean_tv_df.pivot(index='Timepoint',columns='Drug', values='Tumor Volume (mm3)')\n",
    "\n",
    "#preview\n",
    "mean_df_pivot"
   ]
  },
  {
   "cell_type": "markdown",
   "metadata": {},
   "source": [
    "Analyze the data to show how four treatments (Capomulin, Infubinol, Ketapril, and Placebo) compare."
   ]
  },
  {
   "cell_type": "markdown",
   "metadata": {},
   "source": [
    "Mean of Tumor Volume of four treatments (Capomulin, Infubinol, Ketapril, and Placebo)."
   ]
  },
  {
   "cell_type": "code",
   "execution_count": 9,
   "metadata": {},
   "outputs": [
    {
     "data": {
      "text/plain": [
       "[45.0, 44.27, 43.08, 42.06, 40.72, 39.94, 38.77, 37.82, 36.96, 36.24]"
      ]
     },
     "execution_count": 9,
     "metadata": {},
     "output_type": "execute_result"
    }
   ],
   "source": [
    "#Capomulin:Round the mean to two decimal point and make a list of mean of Tumor Volume \n",
    "cap_tv_list=mean_df_pivot['Capomulin'].to_list()\n",
    "cap_tv_list=[round(item, 2) for item in cap_tv_list]\n",
    "cap_tv_list"
   ]
  },
  {
   "cell_type": "code",
   "execution_count": 10,
   "metadata": {},
   "outputs": [
    {
     "data": {
      "text/plain": [
       "[45.0, 47.39, 49.58, 52.4, 54.92, 57.68, 60.99, 63.37, 66.07, 70.66]"
      ]
     },
     "execution_count": 10,
     "metadata": {},
     "output_type": "execute_result"
    }
   ],
   "source": [
    "#Ketapril:Round the mean to two decimal point and make a list of mean of Tumor Volume \n",
    "ket_tv_list=mean_df_pivot['Ketapril'].to_list()\n",
    "ket_tv_list=[round(item, 2) for item in ket_tv_list]\n",
    "ket_tv_list"
   ]
  },
  {
   "cell_type": "code",
   "execution_count": 11,
   "metadata": {},
   "outputs": [
    {
     "data": {
      "text/plain": [
       "[45.0, 47.06, 49.4, 51.3, 53.2, 55.72, 58.3, 60.74, 63.16, 65.76]"
      ]
     },
     "execution_count": 11,
     "metadata": {},
     "output_type": "execute_result"
    }
   ],
   "source": [
    "# Infubinol :Round the mean to two decimal point and make a list of mean of Tumor Volume \n",
    "inf_tv_list=mean_df_pivot['Infubinol'].to_list()\n",
    "inf_tv_list=[round(item, 2) for item in inf_tv_list]\n",
    "inf_tv_list"
   ]
  },
  {
   "cell_type": "code",
   "execution_count": 12,
   "metadata": {},
   "outputs": [
    {
     "data": {
      "text/plain": [
       "[45.0, 47.13, 49.42, 51.36, 54.36, 57.48, 59.81, 62.42, 65.05, 68.08]"
      ]
     },
     "execution_count": 12,
     "metadata": {},
     "output_type": "execute_result"
    }
   ],
   "source": [
    "#Placebo:Round the mean to two decimal point and make a list of mean of Tumor Volume \n",
    "pla_tv_list=mean_df_pivot['Placebo'].to_list()\n",
    "pla_tv_list=[round(item, 2) for item in pla_tv_list]\n",
    "pla_tv_list"
   ]
  },
  {
   "cell_type": "markdown",
   "metadata": {},
   "source": [
    "Find  Standard Error of Mean (sem) of Tumor Volume(mm3) Data, Grouped by Drug and Timepoint "
   ]
  },
  {
   "cell_type": "code",
   "execution_count": 13,
   "metadata": {},
   "outputs": [],
   "source": [
    "# Standard Error of Tumor Volume(mm3) Data, Grouped by Drug and Timepoint\n",
    "sem_tv_df = pd.DataFrame(merged_df.groupby(['Drug', 'Timepoint']) [\"Tumor Volume (mm3)\"].sem())\n",
    "#Reindexing DF\n",
    "sem_tv_df=sem_tv_df.reset_index()\n",
    "#preview\n",
    "#sem_tv_df"
   ]
  },
  {
   "cell_type": "code",
   "execution_count": 15,
   "metadata": {},
   "outputs": [
    {
     "data": {
      "text/html": [
       "<div>\n",
       "<style scoped>\n",
       "    .dataframe tbody tr th:only-of-type {\n",
       "        vertical-align: middle;\n",
       "    }\n",
       "\n",
       "    .dataframe tbody tr th {\n",
       "        vertical-align: top;\n",
       "    }\n",
       "\n",
       "    .dataframe thead th {\n",
       "        text-align: right;\n",
       "    }\n",
       "</style>\n",
       "<table border=\"1\" class=\"dataframe\">\n",
       "  <thead>\n",
       "    <tr style=\"text-align: right;\">\n",
       "      <th>Drug</th>\n",
       "      <th>Capomulin</th>\n",
       "      <th>Ceftamin</th>\n",
       "      <th>Infubinol</th>\n",
       "      <th>Ketapril</th>\n",
       "      <th>Naftisol</th>\n",
       "      <th>Placebo</th>\n",
       "      <th>Propriva</th>\n",
       "      <th>Ramicane</th>\n",
       "      <th>Stelasyn</th>\n",
       "      <th>Zoniferol</th>\n",
       "    </tr>\n",
       "    <tr>\n",
       "      <th>Timepoint</th>\n",
       "      <th></th>\n",
       "      <th></th>\n",
       "      <th></th>\n",
       "      <th></th>\n",
       "      <th></th>\n",
       "      <th></th>\n",
       "      <th></th>\n",
       "      <th></th>\n",
       "      <th></th>\n",
       "      <th></th>\n",
       "    </tr>\n",
       "  </thead>\n",
       "  <tbody>\n",
       "    <tr>\n",
       "      <td>0</td>\n",
       "      <td>0.000000</td>\n",
       "      <td>0.000000</td>\n",
       "      <td>0.000000</td>\n",
       "      <td>0.000000</td>\n",
       "      <td>0.000000</td>\n",
       "      <td>0.000000</td>\n",
       "      <td>0.000000</td>\n",
       "      <td>0.000000</td>\n",
       "      <td>0.000000</td>\n",
       "      <td>0.000000</td>\n",
       "    </tr>\n",
       "    <tr>\n",
       "      <td>5</td>\n",
       "      <td>0.448593</td>\n",
       "      <td>0.164505</td>\n",
       "      <td>0.235102</td>\n",
       "      <td>0.264819</td>\n",
       "      <td>0.202385</td>\n",
       "      <td>0.218091</td>\n",
       "      <td>0.231708</td>\n",
       "      <td>0.482955</td>\n",
       "      <td>0.239862</td>\n",
       "      <td>0.188950</td>\n",
       "    </tr>\n",
       "    <tr>\n",
       "      <td>10</td>\n",
       "      <td>0.702684</td>\n",
       "      <td>0.236144</td>\n",
       "      <td>0.282346</td>\n",
       "      <td>0.357421</td>\n",
       "      <td>0.319415</td>\n",
       "      <td>0.402064</td>\n",
       "      <td>0.376195</td>\n",
       "      <td>0.720225</td>\n",
       "      <td>0.433678</td>\n",
       "      <td>0.263949</td>\n",
       "    </tr>\n",
       "    <tr>\n",
       "      <td>15</td>\n",
       "      <td>0.838617</td>\n",
       "      <td>0.332053</td>\n",
       "      <td>0.357705</td>\n",
       "      <td>0.580268</td>\n",
       "      <td>0.444378</td>\n",
       "      <td>0.614461</td>\n",
       "      <td>0.466109</td>\n",
       "      <td>0.770432</td>\n",
       "      <td>0.493261</td>\n",
       "      <td>0.370544</td>\n",
       "    </tr>\n",
       "    <tr>\n",
       "      <td>20</td>\n",
       "      <td>0.909731</td>\n",
       "      <td>0.359482</td>\n",
       "      <td>0.476210</td>\n",
       "      <td>0.726484</td>\n",
       "      <td>0.595260</td>\n",
       "      <td>0.839609</td>\n",
       "      <td>0.555181</td>\n",
       "      <td>0.786199</td>\n",
       "      <td>0.621889</td>\n",
       "      <td>0.533182</td>\n",
       "    </tr>\n",
       "    <tr>\n",
       "      <td>25</td>\n",
       "      <td>0.881642</td>\n",
       "      <td>0.439356</td>\n",
       "      <td>0.550315</td>\n",
       "      <td>0.755413</td>\n",
       "      <td>0.813706</td>\n",
       "      <td>1.034872</td>\n",
       "      <td>0.577401</td>\n",
       "      <td>0.746991</td>\n",
       "      <td>0.741922</td>\n",
       "      <td>0.602513</td>\n",
       "    </tr>\n",
       "    <tr>\n",
       "      <td>30</td>\n",
       "      <td>0.934460</td>\n",
       "      <td>0.490620</td>\n",
       "      <td>0.631061</td>\n",
       "      <td>0.934121</td>\n",
       "      <td>0.975496</td>\n",
       "      <td>1.218231</td>\n",
       "      <td>0.746045</td>\n",
       "      <td>0.864906</td>\n",
       "      <td>0.899548</td>\n",
       "      <td>0.800043</td>\n",
       "    </tr>\n",
       "    <tr>\n",
       "      <td>35</td>\n",
       "      <td>1.052241</td>\n",
       "      <td>0.692248</td>\n",
       "      <td>0.984155</td>\n",
       "      <td>1.127867</td>\n",
       "      <td>1.013769</td>\n",
       "      <td>1.287481</td>\n",
       "      <td>1.084929</td>\n",
       "      <td>0.967433</td>\n",
       "      <td>1.003186</td>\n",
       "      <td>0.881426</td>\n",
       "    </tr>\n",
       "    <tr>\n",
       "      <td>40</td>\n",
       "      <td>1.223608</td>\n",
       "      <td>0.708505</td>\n",
       "      <td>1.055220</td>\n",
       "      <td>1.158449</td>\n",
       "      <td>1.118567</td>\n",
       "      <td>1.370634</td>\n",
       "      <td>1.564779</td>\n",
       "      <td>1.128445</td>\n",
       "      <td>1.410435</td>\n",
       "      <td>0.998515</td>\n",
       "    </tr>\n",
       "    <tr>\n",
       "      <td>45</td>\n",
       "      <td>1.223977</td>\n",
       "      <td>0.902358</td>\n",
       "      <td>1.144427</td>\n",
       "      <td>1.453186</td>\n",
       "      <td>1.416363</td>\n",
       "      <td>1.351726</td>\n",
       "      <td>1.888586</td>\n",
       "      <td>1.226805</td>\n",
       "      <td>1.576556</td>\n",
       "      <td>1.003576</td>\n",
       "    </tr>\n",
       "  </tbody>\n",
       "</table>\n",
       "</div>"
      ],
      "text/plain": [
       "Drug       Capomulin  Ceftamin  Infubinol  Ketapril  Naftisol   Placebo  \\\n",
       "Timepoint                                                                 \n",
       "0           0.000000  0.000000   0.000000  0.000000  0.000000  0.000000   \n",
       "5           0.448593  0.164505   0.235102  0.264819  0.202385  0.218091   \n",
       "10          0.702684  0.236144   0.282346  0.357421  0.319415  0.402064   \n",
       "15          0.838617  0.332053   0.357705  0.580268  0.444378  0.614461   \n",
       "20          0.909731  0.359482   0.476210  0.726484  0.595260  0.839609   \n",
       "25          0.881642  0.439356   0.550315  0.755413  0.813706  1.034872   \n",
       "30          0.934460  0.490620   0.631061  0.934121  0.975496  1.218231   \n",
       "35          1.052241  0.692248   0.984155  1.127867  1.013769  1.287481   \n",
       "40          1.223608  0.708505   1.055220  1.158449  1.118567  1.370634   \n",
       "45          1.223977  0.902358   1.144427  1.453186  1.416363  1.351726   \n",
       "\n",
       "Drug       Propriva  Ramicane  Stelasyn  Zoniferol  \n",
       "Timepoint                                           \n",
       "0          0.000000  0.000000  0.000000   0.000000  \n",
       "5          0.231708  0.482955  0.239862   0.188950  \n",
       "10         0.376195  0.720225  0.433678   0.263949  \n",
       "15         0.466109  0.770432  0.493261   0.370544  \n",
       "20         0.555181  0.786199  0.621889   0.533182  \n",
       "25         0.577401  0.746991  0.741922   0.602513  \n",
       "30         0.746045  0.864906  0.899548   0.800043  \n",
       "35         1.084929  0.967433  1.003186   0.881426  \n",
       "40         1.564779  1.128445  1.410435   0.998515  \n",
       "45         1.888586  1.226805  1.576556   1.003576  "
      ]
     },
     "execution_count": 15,
     "metadata": {},
     "output_type": "execute_result"
    }
   ],
   "source": [
    "# Minor Data Munging to Re-Format the Data Frames\n",
    "# Preview that Reformatting worked\n",
    "\n",
    "sem_df_pivot=sem_tv_df.pivot(index='Timepoint',columns='Drug', values='Tumor Volume (mm3)')\n",
    "sem_df_pivot=sem_tv_df.pivot(index='Timepoint',columns='Drug', values='Tumor Volume (mm3)')\n",
    "#preview\n",
    "sem_df_pivot"
   ]
  },
  {
   "cell_type": "markdown",
   "metadata": {},
   "source": [
    "Standard Error of Mean(sem) of Tumor Volume of four treatments (Capomulin, Infubinol, Ketapril, and Placebo)."
   ]
  },
  {
   "cell_type": "code",
   "execution_count": 16,
   "metadata": {},
   "outputs": [
    {
     "data": {
      "text/plain": [
       "[0.0, 0.45, 0.7, 0.84, 0.91, 0.88, 0.93, 1.05, 1.22, 1.22]"
      ]
     },
     "execution_count": 16,
     "metadata": {},
     "output_type": "execute_result"
    }
   ],
   "source": [
    "#Capomulin :Round the Standard Error to two decimal point and make a list of SEM of Tumor Volume  \n",
    "cap_sem_list=sem_df_pivot['Capomulin'].to_list()\n",
    "#round the floating number to two decimal value\n",
    "cap_sem_list=[round(item, 2) for item in cap_sem_list]\n",
    "cap_sem_list"
   ]
  },
  {
   "cell_type": "code",
   "execution_count": 17,
   "metadata": {},
   "outputs": [
    {
     "data": {
      "text/plain": [
       "[0.0, 0.26, 0.36, 0.58, 0.73, 0.76, 0.93, 1.13, 1.16, 1.45]"
      ]
     },
     "execution_count": 17,
     "metadata": {},
     "output_type": "execute_result"
    }
   ],
   "source": [
    "#Ketapril :Round the Standard Error to two decimal point and make a list of SEM of Tumor Volume \n",
    "ket_sem_list=sem_df_pivot['Ketapril'].to_list()\n",
    "#round the floating number to two decimal value\n",
    "ket_sem_list=[round(item, 2) for item in ket_sem_list]\n",
    "ket_sem_list"
   ]
  },
  {
   "cell_type": "code",
   "execution_count": 18,
   "metadata": {},
   "outputs": [
    {
     "data": {
      "text/plain": [
       "[0.0, 0.24, 0.28, 0.36, 0.48, 0.55, 0.63, 0.98, 1.06, 1.14]"
      ]
     },
     "execution_count": 18,
     "metadata": {},
     "output_type": "execute_result"
    }
   ],
   "source": [
    "#Infubinol:Round the Standard Error to two decimal point and make a list of SEM of Tumor Volume \n",
    "inf_sem_list=sem_df_pivot['Infubinol'].to_list()\n",
    "#round the floating number to two decimal value\n",
    "inf_sem_list=[round(item, 2) for item in inf_sem_list]\n",
    "inf_sem_list"
   ]
  },
  {
   "cell_type": "code",
   "execution_count": 19,
   "metadata": {},
   "outputs": [
    {
     "data": {
      "text/plain": [
       "[0.0, 0.22, 0.4, 0.61, 0.84, 1.03, 1.22, 1.29, 1.37, 1.35]"
      ]
     },
     "execution_count": 19,
     "metadata": {},
     "output_type": "execute_result"
    }
   ],
   "source": [
    "#Ketapril :Round the Standard Error to two decimal point and make a list of SEM of Tumor Volume \n",
    "pla_sem_list=sem_df_pivot['Placebo'].to_list()\n",
    "#round the floating number to two decimal value\n",
    "pla_sem_list=[round(item, 2) for item in pla_sem_list]\n",
    "pla_sem_list"
   ]
  },
  {
   "cell_type": "code",
   "execution_count": 24,
   "metadata": {},
   "outputs": [
    {
     "data": {
      "image/png": "[encoded data removed]",
      "text/plain": [
       "<Figure size 432x288 with 1 Axes>"
      ]
     },
     "metadata": {
      "needs_background": "light"
     },
     "output_type": "display_data"
    }
   ],
   "source": [
    "# Generate the Plot (with Error Bars)\n",
    "fig, ax = plt.subplots()\n",
    "\n",
    "days= np.arange(0, 50, 5)\n",
    "\n",
    "#horzondal black line at starting tumer size 45\n",
    "plt.hlines(45,0, max(days)+3, color='black')\n",
    "\n",
    "\n",
    "ax.errorbar(days,cap_tv_list,yerr=cap_sem_list, fmt=\"red\", label=\"Capomulin\", marker='*')\n",
    "\n",
    "ax.errorbar(days,ket_tv_list,yerr=ket_sem_list, fmt=\"black\", label=\"Ketapril\", marker= '^')\n",
    "\n",
    "ax.errorbar(days,inf_tv_list,yerr=inf_sem_list, fmt=\"blue\",  label=\"Infubinol\", marker ='o')\n",
    "\n",
    "ax.errorbar(days,pla_tv_list,yerr=pla_sem_list, fmt=\"green\",  label=\"Placebo\", marker ='s')\n",
    "\n",
    "ax.legend()\n",
    "\n",
    "ax.set_xlabel('Time-Days')\n",
    "ax.set_ylabel('Mean of Tumor Volume(mm3) with SEM')\n",
    "ax.set_title('Tumor Response to Treatment')\n",
    "\n",
    "tick_locations = [value for value in days]\n",
    "ax.set_xticks(tick_locations, minor=False)\n",
    "\n",
    "yvalue =np.arange(36,71,10)\n",
    "yticks_location= [y1 for y1 in yvalue]\n",
    "ax.set_yticks(yticks_location, minor=False)\n",
    "\n",
    "plt.grid()\n",
    "\n",
    "plt.xlim(0, max(days)+3)\n",
    "\n",
    "\n",
    "plt.tight_layout()\n",
    "plt.show()\n"
   ]
  },
  {
   "cell_type": "code",
   "execution_count": 51,
   "metadata": {},
   "outputs": [],
   "source": [
    "# Save the Figure\n"
   ]
  },
  {
   "cell_type": "markdown",
   "metadata": {},
   "source": [
    "![Tumor Response to Treatment](../Images/treatment.png)"
   ]
  },
  {
   "cell_type": "markdown",
   "metadata": {},
   "source": [
    "## Metastatic Response to Treatment"
   ]
  },
  {
   "cell_type": "code",
   "execution_count": null,
   "metadata": {},
   "outputs": [],
   "source": [
    "# Store the Mean Met. Site Data Grouped by Drug and Timepoint \n",
    "\n",
    "# Convert to DataFrame\n",
    "\n",
    "# Preview DataFrame\n"
   ]
  },
  {
   "cell_type": "code",
   "execution_count": 6,
   "metadata": {},
   "outputs": [
    {
     "data": {
      "text/html": [
       "<div>\n",
       "<style scoped>\n",
       "    .dataframe tbody tr th:only-of-type {\n",
       "        vertical-align: middle;\n",
       "    }\n",
       "\n",
       "    .dataframe tbody tr th {\n",
       "        vertical-align: top;\n",
       "    }\n",
       "\n",
       "    .dataframe thead th {\n",
       "        text-align: right;\n",
       "    }\n",
       "</style>\n",
       "<table border=\"1\" class=\"dataframe\">\n",
       "  <thead>\n",
       "    <tr style=\"text-align: right;\">\n",
       "      <th></th>\n",
       "      <th></th>\n",
       "      <th>Metastatic Sites</th>\n",
       "    </tr>\n",
       "    <tr>\n",
       "      <th>Drug</th>\n",
       "      <th>Timepoint</th>\n",
       "      <th></th>\n",
       "    </tr>\n",
       "  </thead>\n",
       "  <tbody>\n",
       "    <tr>\n",
       "      <th rowspan=\"5\" valign=\"top\">Capomulin</th>\n",
       "      <th>0</th>\n",
       "      <td>0.000000</td>\n",
       "    </tr>\n",
       "    <tr>\n",
       "      <th>5</th>\n",
       "      <td>0.160000</td>\n",
       "    </tr>\n",
       "    <tr>\n",
       "      <th>10</th>\n",
       "      <td>0.320000</td>\n",
       "    </tr>\n",
       "    <tr>\n",
       "      <th>15</th>\n",
       "      <td>0.375000</td>\n",
       "    </tr>\n",
       "    <tr>\n",
       "      <th>20</th>\n",
       "      <td>0.652174</td>\n",
       "    </tr>\n",
       "  </tbody>\n",
       "</table>\n",
       "</div>"
      ],
      "text/plain": [
       "                     Metastatic Sites\n",
       "Drug      Timepoint                  \n",
       "Capomulin 0                  0.000000\n",
       "          5                  0.160000\n",
       "          10                 0.320000\n",
       "          15                 0.375000\n",
       "          20                 0.652174"
      ]
     },
     "execution_count": 6,
     "metadata": {},
     "output_type": "execute_result"
    }
   ],
   "source": []
  },
  {
   "cell_type": "code",
   "execution_count": null,
   "metadata": {},
   "outputs": [],
   "source": [
    "# Store the Standard Error associated with Met. Sites Grouped by Drug and Timepoint \n",
    "\n",
    "# Convert to DataFrame\n",
    "\n",
    "# Preview DataFrame\n"
   ]
  },
  {
   "cell_type": "code",
   "execution_count": 7,
   "metadata": {},
   "outputs": [
    {
     "data": {
      "text/html": [
       "<div>\n",
       "<style scoped>\n",
       "    .dataframe tbody tr th:only-of-type {\n",
       "        vertical-align: middle;\n",
       "    }\n",
       "\n",
       "    .dataframe tbody tr th {\n",
       "        vertical-align: top;\n",
       "    }\n",
       "\n",
       "    .dataframe thead th {\n",
       "        text-align: right;\n",
       "    }\n",
       "</style>\n",
       "<table border=\"1\" class=\"dataframe\">\n",
       "  <thead>\n",
       "    <tr style=\"text-align: right;\">\n",
       "      <th></th>\n",
       "      <th></th>\n",
       "      <th>Metastatic Sites</th>\n",
       "    </tr>\n",
       "    <tr>\n",
       "      <th>Drug</th>\n",
       "      <th>Timepoint</th>\n",
       "      <th></th>\n",
       "    </tr>\n",
       "  </thead>\n",
       "  <tbody>\n",
       "    <tr>\n",
       "      <th rowspan=\"5\" valign=\"top\">Capomulin</th>\n",
       "      <th>0</th>\n",
       "      <td>0.000000</td>\n",
       "    </tr>\n",
       "    <tr>\n",
       "      <th>5</th>\n",
       "      <td>0.074833</td>\n",
       "    </tr>\n",
       "    <tr>\n",
       "      <th>10</th>\n",
       "      <td>0.125433</td>\n",
       "    </tr>\n",
       "    <tr>\n",
       "      <th>15</th>\n",
       "      <td>0.132048</td>\n",
       "    </tr>\n",
       "    <tr>\n",
       "      <th>20</th>\n",
       "      <td>0.161621</td>\n",
       "    </tr>\n",
       "  </tbody>\n",
       "</table>\n",
       "</div>"
      ],
      "text/plain": [
       "                     Metastatic Sites\n",
       "Drug      Timepoint                  \n",
       "Capomulin 0                  0.000000\n",
       "          5                  0.074833\n",
       "          10                 0.125433\n",
       "          15                 0.132048\n",
       "          20                 0.161621"
      ]
     },
     "execution_count": 7,
     "metadata": {},
     "output_type": "execute_result"
    }
   ],
   "source": []
  },
  {
   "cell_type": "code",
   "execution_count": null,
   "metadata": {},
   "outputs": [],
   "source": [
    "# Minor Data Munging to Re-Format the Data Frames\n",
    "\n",
    "# Preview that Reformatting worked\n"
   ]
  },
  {
   "cell_type": "code",
   "execution_count": 8,
   "metadata": {
    "scrolled": true
   },
   "outputs": [
    {
     "data": {
      "text/html": [
       "<div>\n",
       "<style scoped>\n",
       "    .dataframe tbody tr th:only-of-type {\n",
       "        vertical-align: middle;\n",
       "    }\n",
       "\n",
       "    .dataframe tbody tr th {\n",
       "        vertical-align: top;\n",
       "    }\n",
       "\n",
       "    .dataframe thead th {\n",
       "        text-align: right;\n",
       "    }\n",
       "</style>\n",
       "<table border=\"1\" class=\"dataframe\">\n",
       "  <thead>\n",
       "    <tr style=\"text-align: right;\">\n",
       "      <th>Drug</th>\n",
       "      <th>Capomulin</th>\n",
       "      <th>Ceftamin</th>\n",
       "      <th>Infubinol</th>\n",
       "      <th>Ketapril</th>\n",
       "      <th>Naftisol</th>\n",
       "      <th>Placebo</th>\n",
       "      <th>Propriva</th>\n",
       "      <th>Ramicane</th>\n",
       "      <th>Stelasyn</th>\n",
       "      <th>Zoniferol</th>\n",
       "    </tr>\n",
       "    <tr>\n",
       "      <th>Timepoint</th>\n",
       "      <th></th>\n",
       "      <th></th>\n",
       "      <th></th>\n",
       "      <th></th>\n",
       "      <th></th>\n",
       "      <th></th>\n",
       "      <th></th>\n",
       "      <th></th>\n",
       "      <th></th>\n",
       "      <th></th>\n",
       "    </tr>\n",
       "  </thead>\n",
       "  <tbody>\n",
       "    <tr>\n",
       "      <th>0</th>\n",
       "      <td>45.000000</td>\n",
       "      <td>45.000000</td>\n",
       "      <td>45.000000</td>\n",
       "      <td>45.000000</td>\n",
       "      <td>45.000000</td>\n",
       "      <td>45.000000</td>\n",
       "      <td>45.000000</td>\n",
       "      <td>45.000000</td>\n",
       "      <td>45.000000</td>\n",
       "      <td>45.000000</td>\n",
       "    </tr>\n",
       "    <tr>\n",
       "      <th>5</th>\n",
       "      <td>44.266086</td>\n",
       "      <td>46.503051</td>\n",
       "      <td>47.062001</td>\n",
       "      <td>47.389175</td>\n",
       "      <td>46.796098</td>\n",
       "      <td>47.125589</td>\n",
       "      <td>47.248967</td>\n",
       "      <td>43.944859</td>\n",
       "      <td>47.527452</td>\n",
       "      <td>46.851818</td>\n",
       "    </tr>\n",
       "    <tr>\n",
       "      <th>10</th>\n",
       "      <td>43.084291</td>\n",
       "      <td>48.285125</td>\n",
       "      <td>49.403909</td>\n",
       "      <td>49.582269</td>\n",
       "      <td>48.694210</td>\n",
       "      <td>49.423329</td>\n",
       "      <td>49.101541</td>\n",
       "      <td>42.531957</td>\n",
       "      <td>49.463844</td>\n",
       "      <td>48.689881</td>\n",
       "    </tr>\n",
       "    <tr>\n",
       "      <th>15</th>\n",
       "      <td>42.064317</td>\n",
       "      <td>50.094055</td>\n",
       "      <td>51.296397</td>\n",
       "      <td>52.399974</td>\n",
       "      <td>50.933018</td>\n",
       "      <td>51.359742</td>\n",
       "      <td>51.067318</td>\n",
       "      <td>41.495061</td>\n",
       "      <td>51.529409</td>\n",
       "      <td>50.779059</td>\n",
       "    </tr>\n",
       "    <tr>\n",
       "      <th>20</th>\n",
       "      <td>40.716325</td>\n",
       "      <td>52.157049</td>\n",
       "      <td>53.197691</td>\n",
       "      <td>54.920935</td>\n",
       "      <td>53.644087</td>\n",
       "      <td>54.364417</td>\n",
       "      <td>53.346737</td>\n",
       "      <td>40.238325</td>\n",
       "      <td>54.067395</td>\n",
       "      <td>53.170334</td>\n",
       "    </tr>\n",
       "  </tbody>\n",
       "</table>\n",
       "</div>"
      ],
      "text/plain": [
       "Drug       Capomulin   Ceftamin  Infubinol   Ketapril   Naftisol    Placebo  \\\n",
       "Timepoint                                                                     \n",
       "0          45.000000  45.000000  45.000000  45.000000  45.000000  45.000000   \n",
       "5          44.266086  46.503051  47.062001  47.389175  46.796098  47.125589   \n",
       "10         43.084291  48.285125  49.403909  49.582269  48.694210  49.423329   \n",
       "15         42.064317  50.094055  51.296397  52.399974  50.933018  51.359742   \n",
       "20         40.716325  52.157049  53.197691  54.920935  53.644087  54.364417   \n",
       "\n",
       "Drug        Propriva   Ramicane   Stelasyn  Zoniferol  \n",
       "Timepoint                                              \n",
       "0          45.000000  45.000000  45.000000  45.000000  \n",
       "5          47.248967  43.944859  47.527452  46.851818  \n",
       "10         49.101541  42.531957  49.463844  48.689881  \n",
       "15         51.067318  41.495061  51.529409  50.779059  \n",
       "20         53.346737  40.238325  54.067395  53.170334  "
      ]
     },
     "execution_count": 8,
     "metadata": {},
     "output_type": "execute_result"
    }
   ],
   "source": []
  },
  {
   "cell_type": "code",
   "execution_count": null,
   "metadata": {},
   "outputs": [],
   "source": [
    "# Generate the Plot (with Error Bars)\n",
    "\n",
    "# Save the Figure\n",
    "\n",
    "# Show the Figure\n"
   ]
  },
  {
   "cell_type": "markdown",
   "metadata": {},
   "source": [
    "![Metastatic Spread During Treatment](../Images/spread.png)"
   ]
  },
  {
   "cell_type": "markdown",
   "metadata": {},
   "source": [
    "## Survival Rates"
   ]
  },
  {
   "cell_type": "code",
   "execution_count": null,
   "metadata": {},
   "outputs": [],
   "source": [
    "# Store the Count of Mice Grouped by Drug and Timepoint (W can pass any metric)\n",
    "\n",
    "# Convert to DataFrame\n",
    "\n",
    "# Preview DataFrame\n"
   ]
  },
  {
   "cell_type": "code",
   "execution_count": 10,
   "metadata": {},
   "outputs": [
    {
     "data": {
      "text/html": [
       "<div>\n",
       "<style scoped>\n",
       "    .dataframe tbody tr th:only-of-type {\n",
       "        vertical-align: middle;\n",
       "    }\n",
       "\n",
       "    .dataframe tbody tr th {\n",
       "        vertical-align: top;\n",
       "    }\n",
       "\n",
       "    .dataframe thead th {\n",
       "        text-align: right;\n",
       "    }\n",
       "</style>\n",
       "<table border=\"1\" class=\"dataframe\">\n",
       "  <thead>\n",
       "    <tr style=\"text-align: right;\">\n",
       "      <th></th>\n",
       "      <th>Drug</th>\n",
       "      <th>Timepoint</th>\n",
       "      <th>Mouse Count</th>\n",
       "    </tr>\n",
       "  </thead>\n",
       "  <tbody>\n",
       "    <tr>\n",
       "      <th>0</th>\n",
       "      <td>Capomulin</td>\n",
       "      <td>0</td>\n",
       "      <td>25</td>\n",
       "    </tr>\n",
       "    <tr>\n",
       "      <th>1</th>\n",
       "      <td>Capomulin</td>\n",
       "      <td>5</td>\n",
       "      <td>25</td>\n",
       "    </tr>\n",
       "    <tr>\n",
       "      <th>2</th>\n",
       "      <td>Capomulin</td>\n",
       "      <td>10</td>\n",
       "      <td>25</td>\n",
       "    </tr>\n",
       "    <tr>\n",
       "      <th>3</th>\n",
       "      <td>Capomulin</td>\n",
       "      <td>15</td>\n",
       "      <td>24</td>\n",
       "    </tr>\n",
       "    <tr>\n",
       "      <th>4</th>\n",
       "      <td>Capomulin</td>\n",
       "      <td>20</td>\n",
       "      <td>23</td>\n",
       "    </tr>\n",
       "  </tbody>\n",
       "</table>\n",
       "</div>"
      ],
      "text/plain": [
       "        Drug  Timepoint  Mouse Count\n",
       "0  Capomulin          0           25\n",
       "1  Capomulin          5           25\n",
       "2  Capomulin         10           25\n",
       "3  Capomulin         15           24\n",
       "4  Capomulin         20           23"
      ]
     },
     "execution_count": 10,
     "metadata": {},
     "output_type": "execute_result"
    }
   ],
   "source": []
  },
  {
   "cell_type": "code",
   "execution_count": null,
   "metadata": {},
   "outputs": [],
   "source": [
    "# Minor Data Munging to Re-Format the Data Frames\n",
    "\n",
    "# Preview the Data Frame\n"
   ]
  },
  {
   "cell_type": "code",
   "execution_count": 11,
   "metadata": {
    "scrolled": true
   },
   "outputs": [
    {
     "data": {
      "text/html": [
       "<div>\n",
       "<style scoped>\n",
       "    .dataframe tbody tr th:only-of-type {\n",
       "        vertical-align: middle;\n",
       "    }\n",
       "\n",
       "    .dataframe tbody tr th {\n",
       "        vertical-align: top;\n",
       "    }\n",
       "\n",
       "    .dataframe thead th {\n",
       "        text-align: right;\n",
       "    }\n",
       "</style>\n",
       "<table border=\"1\" class=\"dataframe\">\n",
       "  <thead>\n",
       "    <tr style=\"text-align: right;\">\n",
       "      <th>Drug</th>\n",
       "      <th>Capomulin</th>\n",
       "      <th>Ceftamin</th>\n",
       "      <th>Infubinol</th>\n",
       "      <th>Ketapril</th>\n",
       "      <th>Naftisol</th>\n",
       "      <th>Placebo</th>\n",
       "      <th>Propriva</th>\n",
       "      <th>Ramicane</th>\n",
       "      <th>Stelasyn</th>\n",
       "      <th>Zoniferol</th>\n",
       "    </tr>\n",
       "    <tr>\n",
       "      <th>Timepoint</th>\n",
       "      <th></th>\n",
       "      <th></th>\n",
       "      <th></th>\n",
       "      <th></th>\n",
       "      <th></th>\n",
       "      <th></th>\n",
       "      <th></th>\n",
       "      <th></th>\n",
       "      <th></th>\n",
       "      <th></th>\n",
       "    </tr>\n",
       "  </thead>\n",
       "  <tbody>\n",
       "    <tr>\n",
       "      <th>0</th>\n",
       "      <td>25</td>\n",
       "      <td>25</td>\n",
       "      <td>25</td>\n",
       "      <td>25</td>\n",
       "      <td>25</td>\n",
       "      <td>25</td>\n",
       "      <td>26</td>\n",
       "      <td>25</td>\n",
       "      <td>26</td>\n",
       "      <td>25</td>\n",
       "    </tr>\n",
       "    <tr>\n",
       "      <th>5</th>\n",
       "      <td>25</td>\n",
       "      <td>21</td>\n",
       "      <td>25</td>\n",
       "      <td>23</td>\n",
       "      <td>23</td>\n",
       "      <td>24</td>\n",
       "      <td>25</td>\n",
       "      <td>25</td>\n",
       "      <td>25</td>\n",
       "      <td>24</td>\n",
       "    </tr>\n",
       "    <tr>\n",
       "      <th>10</th>\n",
       "      <td>25</td>\n",
       "      <td>20</td>\n",
       "      <td>21</td>\n",
       "      <td>22</td>\n",
       "      <td>21</td>\n",
       "      <td>24</td>\n",
       "      <td>23</td>\n",
       "      <td>24</td>\n",
       "      <td>23</td>\n",
       "      <td>22</td>\n",
       "    </tr>\n",
       "    <tr>\n",
       "      <th>15</th>\n",
       "      <td>24</td>\n",
       "      <td>19</td>\n",
       "      <td>21</td>\n",
       "      <td>19</td>\n",
       "      <td>21</td>\n",
       "      <td>20</td>\n",
       "      <td>17</td>\n",
       "      <td>24</td>\n",
       "      <td>23</td>\n",
       "      <td>21</td>\n",
       "    </tr>\n",
       "    <tr>\n",
       "      <th>20</th>\n",
       "      <td>23</td>\n",
       "      <td>18</td>\n",
       "      <td>20</td>\n",
       "      <td>19</td>\n",
       "      <td>20</td>\n",
       "      <td>19</td>\n",
       "      <td>17</td>\n",
       "      <td>23</td>\n",
       "      <td>21</td>\n",
       "      <td>17</td>\n",
       "    </tr>\n",
       "  </tbody>\n",
       "</table>\n",
       "</div>"
      ],
      "text/plain": [
       "Drug       Capomulin  Ceftamin  Infubinol  Ketapril  Naftisol  Placebo  \\\n",
       "Timepoint                                                                \n",
       "0                 25        25         25        25        25       25   \n",
       "5                 25        21         25        23        23       24   \n",
       "10                25        20         21        22        21       24   \n",
       "15                24        19         21        19        21       20   \n",
       "20                23        18         20        19        20       19   \n",
       "\n",
       "Drug       Propriva  Ramicane  Stelasyn  Zoniferol  \n",
       "Timepoint                                           \n",
       "0                26        25        26         25  \n",
       "5                25        25        25         24  \n",
       "10               23        24        23         22  \n",
       "15               17        24        23         21  \n",
       "20               17        23        21         17  "
      ]
     },
     "execution_count": 11,
     "metadata": {},
     "output_type": "execute_result"
    }
   ],
   "source": []
  },
  {
   "cell_type": "code",
   "execution_count": null,
   "metadata": {},
   "outputs": [],
   "source": [
    "# Generate the Plot (Accounting for percentages)\n",
    "\n",
    "# Save the Figure\n",
    "\n",
    "# Show the Figure\n",
    "plt.show()"
   ]
  },
  {
   "cell_type": "markdown",
   "metadata": {},
   "source": [
    "![Metastatic Spread During Treatment](../Images/survival.png)"
   ]
  },
  {
   "cell_type": "markdown",
   "metadata": {},
   "source": [
    "## Summary Bar Graph"
   ]
  },
  {
   "cell_type": "code",
   "execution_count": null,
   "metadata": {},
   "outputs": [],
   "source": [
    "# Calculate the percent changes for each drug\n",
    "\n",
    "# Display the data to confirm\n"
   ]
  },
  {
   "cell_type": "code",
   "execution_count": 13,
   "metadata": {},
   "outputs": [
    {
     "data": {
      "text/plain": [
       "Drug\n",
       "Capomulin   -19.475303\n",
       "Ceftamin     42.516492\n",
       "Infubinol    46.123472\n",
       "Ketapril     57.028795\n",
       "Naftisol     53.923347\n",
       "Placebo      51.297960\n",
       "Propriva     47.241175\n",
       "Ramicane    -22.320900\n",
       "Stelasyn     52.085134\n",
       "Zoniferol    46.579751\n",
       "dtype: float64"
      ]
     },
     "execution_count": 13,
     "metadata": {},
     "output_type": "execute_result"
    }
   ],
   "source": []
  },
  {
   "cell_type": "code",
   "execution_count": null,
   "metadata": {},
   "outputs": [],
   "source": [
    "# Store all Relevant Percent Changes into a Tuple\n",
    "\n",
    "\n",
    "# Splice the data between passing and failing drugs\n",
    "\n",
    "\n",
    "# Orient widths. Add labels, tick marks, etc. \n",
    "\n",
    "\n",
    "# Use functions to label the percentages of changes\n",
    "\n",
    "\n",
    "# Call functions to implement the function calls\n",
    "\n",
    "\n",
    "# Save the Figure\n",
    "\n",
    "\n",
    "# Show the Figure\n",
    "fig.show()"
   ]
  },
  {
   "cell_type": "markdown",
   "metadata": {},
   "source": [
    "![Metastatic Spread During Treatment](../Images/change.png)"
   ]
  },
  {
   "cell_type": "code",
   "execution_count": null,
   "metadata": {},
   "outputs": [],
   "source": []
  }
 ],
 "metadata": {
  "anaconda-cloud": {},
  "kernelspec": {
   "display_name": "Python [conda env:PandasLearn] *",
   "language": "python",
   "name": "conda-env-PandasLearn-py"
  },
  "language_info": {
   "codemirror_mode": {
    "name": "ipython",
    "version": 3
   },
   "file_extension": ".py",
   "mimetype": "text/x-python",
   "name": "python",
   "nbconvert_exporter": "python",
   "pygments_lexer": "ipython3",
   "version": "3.7.4"
  }
 },
 "nbformat": 4,
 "nbformat_minor": 1
}
